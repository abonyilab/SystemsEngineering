{
 "cells": [
  {
   "cell_type": "markdown",
   "metadata": {},
   "source": [
    "# If statements\n",
    "\n",
    "## Fahrenheit-Celsius converter\n",
    "\n",
    "Let's make a converter which can converter °C to F and F to °C based on a string that defines the temperature metric. / Készítsünk egy °C - F és F - °C átváltó programot, ami egy string alapján dönti el, hogy milyen mértékegység a bemenete. <br>\n",
    "$F = 9/5 * C+32$ <br>\n",
    "$C = 5/9 * (F-32)$"
   ]
  },
  {
   "cell_type": "code",
   "execution_count": 2,
   "metadata": {},
   "outputs": [
    {
     "name": "stdout",
     "output_type": "stream",
     "text": [
      "69.8 degree Fahrenheit is 21.0 degree in Celsius.\n"
     ]
    }
   ],
   "source": [
    "degree = 21\n",
    "dtype = \"celsius\"\n",
    "\n",
    "# degree = 69.8\n",
    "# dtype = \"fahrenheit\"\n",
    "\n",
    "dtype = dtype.lower()\n",
    "\n",
    "if dtype==\"celsius\":\n",
    "    print(\"{} degree Celsius is {} degree in Fahrenheit.\".format(degree,9/5*degree+32))\n",
    "else:\n",
    "    print(\"{} degree Fahrenheit is {} degree in Celsius.\".format(degree,5/9*(degree-32)))\n"
   ]
  },
  {
   "cell_type": "markdown",
   "metadata": {},
   "source": [
    "# Vertical position of a ball\n",
    "\n",
    "The vertical position of a ball as the function of time / Egy labda vertikális helyzete az idő függvényében: <br>\n",
    "\n",
    "$y(t) = v_0 * t-1/2 * g * t^2$\n",
    "<br>\n",
    "<br>\n",
    "v0 = 5 <br>\n",
    "g = 9.81 <br>\n",
    "t = [0.1,0.2,...,0.9,1]\n",
    "\n",
    "(HA ÁBRÁZOLNI SZERETNÉNK: import matplotlib.pyplot as plt, plt.plot(), plt.show())"
   ]
  },
  {
   "cell_type": "code",
   "execution_count": 8,
   "metadata": {},
   "outputs": [
    {
     "data": {
      "image/png": "[encoded data removed]",
      "text/plain": [
       "<matplotlib.figure.Figure at 0x24a3b4eb198>"
      ]
     },
     "metadata": {},
     "output_type": "display_data"
    }
   ],
   "source": [
    "v0 = 5 \n",
    "g = 9.81 \n",
    "\n",
    "t_vals = [t*0.1 for t in range(0,11)]\n",
    "y_vals = [v0*t-1/2*g*t**2 for t in t_vals]\n",
    "\n",
    "import matplotlib.pyplot as plt\n",
    "plt.plot(t_vals,y_vals)\n",
    "plt.show()"
   ]
  },
  {
   "cell_type": "markdown",
   "metadata": {},
   "source": [
    "# Counting the lower and upper case letters\n",
    "\n",
    "Write a Python script, that calculates the number of upper case letters and lower case letters in a string. / Írj egy programot, ami megszámolja a kis és nagyebtűket egy stringben.\n",
    "\n",
    "    Sample String : 'Hello Mr. Rogers, how are you this fine Tuesday?'\n",
    "    Expected Output : \n",
    "    No. of Upper case characters : 4\n",
    "    No. of Lower case Characters : 33\n",
    "\n",
    "HINT: Two string methods that might prove useful: **.isupper()** and **.islower()**\n"
   ]
  },
  {
   "cell_type": "code",
   "execution_count": 2,
   "metadata": {},
   "outputs": [
    {
     "name": "stdout",
     "output_type": "stream",
     "text": [
      "No. of Upper case characters :  4\n",
      "No. of Lower case characters :  33\n"
     ]
    }
   ],
   "source": [
    "s = 'Hello Mr. Rogers, how are you this fine Tuesday?'\n",
    "upp = 0\n",
    "loww = 0\n",
    "for letter in s:\n",
    "    if letter.isupper():\n",
    "        upp += 1\n",
    "    elif letter.islower():\n",
    "        loww += 1\n",
    "        \n",
    "print(\"No. of Upper case characters :  {}\".format(upp))\n",
    "print(\"No. of Lower case characters :  {}\".format(loww))"
   ]
  },
  {
   "cell_type": "markdown",
   "metadata": {},
   "source": [
    "# Sinus approximation\n",
    "\n",
    "Let's approximate the value of sin(x) (x = 1.2) by the following equation. / Becsüljük meg a sin(x) (x=1.2) értékét a következő egyenlet segítségével:\n",
    "<br>\n",
    "<br>\n",
    "$sin(x) = x-x^3/3!+x^5/5!-x^7/7!+...$\n",
    "<br>\n",
    "<br>\n",
    "(import math, math.factorial(), math.sin)"
   ]
  },
  {
   "cell_type": "code",
   "execution_count": 13,
   "metadata": {},
   "outputs": [
    {
     "name": "stdout",
     "output_type": "stream",
     "text": [
      "0.9320390859672263\n",
      "0.9320390859672263\n"
     ]
    }
   ],
   "source": [
    "x = 1.2\n",
    "sign = 1\n",
    "N = 20 #maximal number of cycles\n",
    "k = 1 #actual number of cycles\n",
    "s = x\n",
    "\n",
    "import math\n",
    "\n",
    "while k<N:\n",
    "    sign = -sign\n",
    "    k = k+2\n",
    "    term = sign*x**k/math.factorial(k)\n",
    "    s += term\n",
    "\n",
    "print(s)\n",
    "print(math.sin(x))"
   ]
  },
  {
   "cell_type": "markdown",
   "metadata": {},
   "source": [
    "# Rock–paper–scissors / Kő-papír-olló\n",
    "\n",
    "Készítsük el a jól ismert kő-papír-olló játékot, ahol az egyik játékos a gép, a másik pedig mi leszünk. A kő-papír-olló jeleket jelöljék rendre \"k\", \"p\" és \"o\" stringek. A játékos választását a következő sorral tudjuk bekérdezni: <br>\n",
    "j = input(\"Let's play rock-paper-scissors. Choose from the letters r,p,s: \") <br>\n",
    "A gép választását random válasszuk ki (a 3 lehetésges közül) a random.choice() függvény segítségével (import random!!) <br>\n",
    "A játék akkor álljon meg, ha a játékos \"q\"-t választ bemenetként."
   ]
  },
  {
   "cell_type": "code",
   "execution_count": 15,
   "metadata": {},
   "outputs": [
    {
     "name": "stdout",
     "output_type": "stream",
     "text": [
      "Válassz k-p-o (q, ha ki akarsz lépni): k\n",
      "Döntetlen!\n",
      "Válassz k-p-o (q, ha ki akarsz lépni): k\n",
      "Döntetlen!\n",
      "Válassz k-p-o (q, ha ki akarsz lépni): k\n",
      "Vesztettél!\n",
      "Válassz k-p-o (q, ha ki akarsz lépni): k\n",
      "Döntetlen!\n",
      "Válassz k-p-o (q, ha ki akarsz lépni): k\n",
      "Vesztettél!\n",
      "Válassz k-p-o (q, ha ki akarsz lépni): k\n",
      "Vesztettél!\n",
      "Válassz k-p-o (q, ha ki akarsz lépni): k\n",
      "Vesztettél!\n",
      "Válassz k-p-o (q, ha ki akarsz lépni): k\n",
      "Győztél, a gép  o -t választott.\n",
      "Válassz k-p-o (q, ha ki akarsz lépni): k\n",
      "Döntetlen!\n",
      "Válassz k-p-o (q, ha ki akarsz lépni): k\n",
      "Vesztettél!\n",
      "Válassz k-p-o (q, ha ki akarsz lépni): k\n",
      "Vesztettél!\n",
      "Válassz k-p-o (q, ha ki akarsz lépni): k\n",
      "Döntetlen!\n",
      "Válassz k-p-o (q, ha ki akarsz lépni): k\n",
      "Győztél, a gép  o -t választott.\n",
      "Válassz k-p-o (q, ha ki akarsz lépni): k\n",
      "Győztél, a gép  o -t választott.\n",
      "Válassz k-p-o (q, ha ki akarsz lépni): k\n",
      "Győztél, a gép  o -t választott.\n",
      "Válassz k-p-o (q, ha ki akarsz lépni): k\n",
      "Döntetlen!\n",
      "Válassz k-p-o (q, ha ki akarsz lépni): k\n",
      "Győztél, a gép  o -t választott.\n",
      "Válassz k-p-o (q, ha ki akarsz lépni): k\n",
      "Győztél, a gép  o -t választott.\n",
      "Válassz k-p-o (q, ha ki akarsz lépni): k\n",
      "Győztél, a gép  o -t választott.\n",
      "Válassz k-p-o (q, ha ki akarsz lépni): k\n",
      "Döntetlen!\n",
      "Válassz k-p-o (q, ha ki akarsz lépni): k\n",
      "Döntetlen!\n",
      "Válassz k-p-o (q, ha ki akarsz lépni): k\n",
      "Győztél, a gép  o -t választott.\n",
      "Válassz k-p-o (q, ha ki akarsz lépni): k\n",
      "Döntetlen!\n",
      "Válassz k-p-o (q, ha ki akarsz lépni): k\n",
      "Győztél, a gép  o -t választott.\n",
      "Válassz k-p-o (q, ha ki akarsz lépni): k\n",
      "Döntetlen!\n",
      "Válassz k-p-o (q, ha ki akarsz lépni): k\n",
      "Döntetlen!\n",
      "Válassz k-p-o (q, ha ki akarsz lépni): q\n",
      "Vége a játéknak, 26 játékból 9 győzelmed, 11 döntetlen és 6 vesztes játszma született.\n"
     ]
    }
   ],
   "source": [
    "import random\n",
    "\n",
    "valasztasok = [\"k\",\"p\",\"o\"]\n",
    "\n",
    "j = input(\"Válassz k-p-o (q, ha ki akarsz lépni): \")\n",
    "\n",
    "gy = 0\n",
    "v = 0\n",
    "d = 0\n",
    "k = 0\n",
    "while j!=\"q\":\n",
    "    \n",
    "    g = random.choice(valasztasok)\n",
    "    \n",
    "    if j == 'k' and g == 'o':\n",
    "        print(\"Győztél, a gép \",g,\"-t választott.\")\n",
    "        gy += 1\n",
    "    elif j == 'p' and g == 'k':\n",
    "        print(\"Győztél, a gép \",g,\"-t választott.\")\n",
    "        gy += 1\n",
    "    elif j == 'o' and g == 'p':\n",
    "        print(\"Győztél, a gép \",g,\"-t választott.\")\n",
    "        gy += 1\n",
    "    elif j == g:\n",
    "        print(\"Döntetlen!\")\n",
    "        d += 1\n",
    "    else:\n",
    "        print(\"Vesztettél!\")\n",
    "        v += 1\n",
    "    j = input(\"Válassz k-p-o (q, ha ki akarsz lépni): \")\n",
    "    k += 1\n",
    "print(\"Vége a játéknak, {} játékból {} győzelmed, {} döntetlen és {} vesztes játszma született.\".format(k,gy,d,v))\n",
    "    "
   ]
  },
  {
   "cell_type": "code",
   "execution_count": null,
   "metadata": {
    "collapsed": true
   },
   "outputs": [],
   "source": []
  },
  {
   "cell_type": "code",
   "execution_count": null,
   "metadata": {
    "collapsed": true
   },
   "outputs": [],
   "source": []
  }
 ],
 "metadata": {
  "kernelspec": {
   "display_name": "Python 3",
   "language": "python",
   "name": "python3"
  },
  "language_info": {
   "codemirror_mode": {
    "name": "ipython",
    "version": 3
   },
   "file_extension": ".py",
   "mimetype": "text/x-python",
   "name": "python",
   "nbconvert_exporter": "python",
   "pygments_lexer": "ipython3",
   "version": "3.7.1"
  }
 },
 "nbformat": 4,
 "nbformat_minor": 2
}
