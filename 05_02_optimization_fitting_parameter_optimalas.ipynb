{
 "cells": [
  {
   "cell_type": "markdown",
   "metadata": {},
   "source": [
    "\n",
    "# Regression of data is a form of function minimization\n",
    "\n",
    "# Optimalizáción alapuló regressziós feladatok \n",
    "\n"
   ]
  },
  {
   "cell_type": "markdown",
   "metadata": {},
   "source": [
    "Find  parameters of a model that best reproduces some known data by minimisation of sum of the errors between the predicted and real values.\n",
    "\n",
    "\n",
    "A regressziós feladat általánosan megfogalmazva adott modell paramétereinek meghatározását jelenti annak érdekében, hogy a modell álltal becsült értékek a lehető legpontosabban írják le a modellezett rendszer viselkedését. \n",
    "\n"
   ]
  },
  {
   "cell_type": "markdown",
   "metadata": {},
   "source": [
    "We often want to fit an equation to data. As an  example will use this equation:\n",
    "\n",
    "Nagyon gyakran előforduló feladat, hogy egy összefüggés paramétereit adatok alapján kell meghatározni. \n",
    "\n",
    "A továbbiakban e feladat megoldását a következő példán keresztül vizsgáljuk:\n",
    "\n",
    "$E = E_0 + \\frac{B_0 V}{B_0'}\\left(\\frac{(V_0 / V)^{B_0'}}{B_0' - 1} + 1 \\right) - \\frac{V_0 B_0}{B_0' - 1}$\n",
    "\n",
    "from [https://journals.aps.org/prb/pdf/10.1103/PhysRevB.28.5480](https://journals.aps.org/prb/pdf/10.1103/PhysRevB.28.5480). \n",
    "\n",
    "In this model there are four parameters:\n",
    "\n",
    "$E_0$: energy at the minimim\n",
    "\n",
    "$B_0$: bulk modulus\n",
    "\n",
    "$B_0'$: first derivative of the bulk modulus\n",
    "\n",
    "$V_0$:volume at the energy minimum\n",
    "\n",
    "That means, find the set of parameters that minimize the sum of the errors between the model and data.\n",
    "\n",
    "First we need a function that will use the parameters and return the energy for a given volume.\n",
    "\n"
   ]
  },
  {
   "cell_type": "code",
   "execution_count": 1,
   "metadata": {},
   "outputs": [
    {
     "data": {
      "text/plain": [
       "Text(0, 0.5, 'E')"
      ]
     },
     "execution_count": 1,
     "metadata": {},
     "output_type": "execute_result"
    },
    {
     "data": {
      "image/png": "[encoded data removed]",
      "text/plain": [
       "<Figure size 432x288 with 1 Axes>"
      ]
     },
     "metadata": {
      "needs_background": "light"
     },
     "output_type": "display_data"
    }
   ],
   "source": [
    "# Define and plot the data / az adatok definiálása és ábrázolása \n",
    "import numpy as np\n",
    "%matplotlib inline\n",
    "import matplotlib.pyplot as plt\n",
    "\n",
    "x = np.array([13.71, 14.82, 16.0, 17.23, 18.52])\n",
    "y = np.array([-56.29, -56.41, -56.46, -56.463,-56.41])\n",
    "\n",
    "plt.plot(x, y, 'bo')\n",
    "plt.xlabel('V')\n",
    "plt.ylabel('E')"
   ]
  },
  {
   "cell_type": "code",
   "execution_count": 2,
   "metadata": {},
   "outputs": [],
   "source": [
    "# The first step is to define a function that defines the model \n",
    "# Az első lépés a modellt leíró függvény definiálása\n",
    "def f(parameters, x):\n",
    "    'From PRB 28,5480 (1983)'\n",
    "    E0, B0, BP, V0 = parameters\n",
    "    E = E0 + B0 * x / BP * \\\n",
    "        (((V0 / x)**BP) / (BP - 1) + 1) - V0 * B0 / (BP - 1.)\n",
    "\n",
    "    #E=E0+B0*x+BP*x**2+\n",
    "    return E"
   ]
  },
  {
   "cell_type": "code",
   "execution_count": 3,
   "metadata": {},
   "outputs": [],
   "source": [
    "#Next, we need a function that computes the summed squared errors for a set of parameters.\n",
    "#A következő lépés a hibafüggvény definiálása \n",
    "def objective(pars):\n",
    "    err = y - f(pars, x)\n",
    "    return np.sum(err**2)  # we return the summed squared error directly"
   ]
  },
  {
   "cell_type": "code",
   "execution_count": 4,
   "metadata": {},
   "outputs": [
    {
     "ename": "NameError",
     "evalue": "name 'x0' is not defined",
     "output_type": "error",
     "traceback": [
      "\u001b[1;31m---------------------------------------------------------------------------\u001b[0m",
      "\u001b[1;31mNameError\u001b[0m                                 Traceback (most recent call last)",
      "\u001b[1;32m<ipython-input-4-357a7efdbba7>\u001b[0m in \u001b[0;36m<module>\u001b[1;34m\u001b[0m\n\u001b[0;32m      1\u001b[0m \u001b[1;31m# Let's find the optimum / Ha mindez megvan, akkor optimalizáljunk\u001b[0m\u001b[1;33m\u001b[0m\u001b[1;33m\u001b[0m\u001b[1;33m\u001b[0m\u001b[0m\n\u001b[0;32m      2\u001b[0m \u001b[1;32mfrom\u001b[0m \u001b[0mscipy\u001b[0m\u001b[1;33m.\u001b[0m\u001b[0moptimize\u001b[0m \u001b[1;32mimport\u001b[0m \u001b[0mminimize\u001b[0m\u001b[1;33m\u001b[0m\u001b[1;33m\u001b[0m\u001b[0m\n\u001b[1;32m----> 3\u001b[1;33m \u001b[0msol\u001b[0m \u001b[1;33m=\u001b[0m \u001b[0mminimize\u001b[0m\u001b[1;33m(\u001b[0m\u001b[0mobjective\u001b[0m\u001b[1;33m,\u001b[0m \u001b[0mx0\u001b[0m\u001b[1;33m)\u001b[0m\u001b[1;33m\u001b[0m\u001b[1;33m\u001b[0m\u001b[0m\n\u001b[0m\u001b[0;32m      4\u001b[0m \u001b[0mprint\u001b[0m\u001b[1;33m(\u001b[0m\u001b[0msol\u001b[0m\u001b[1;33m)\u001b[0m\u001b[1;33m\u001b[0m\u001b[1;33m\u001b[0m\u001b[0m\n",
      "\u001b[1;31mNameError\u001b[0m: name 'x0' is not defined"
     ]
    }
   ],
   "source": [
    "# Let's find the optimum / Ha mindez megvan, akkor optimalizáljunk \n",
    "from scipy.optimize import minimize\n",
    "sol = minimize(objective, x0)\n",
    "print(sol)\n"
   ]
  },
  {
   "cell_type": "code",
   "execution_count": null,
   "metadata": {},
   "outputs": [],
   "source": [
    "# Plot the esimates of the model with the  optimal parameters\n",
    "# Ábrázoljuk a modell által becsült értékeket\n",
    "\n",
    "plt.plot(x, y, 'bo', label='Data')\n",
    "x_range = np.linspace(min(x), max(x),10)\n",
    "plt.plot(x_range, f(sol.x, x_range), label='fit')\n",
    "plt.legend()\n",
    "plt.xlabel('V')\n",
    "plt.ylabel('E')"
   ]
  },
  {
   "cell_type": "code",
   "execution_count": null,
   "metadata": {},
   "outputs": [],
   "source": [
    "sol.x"
   ]
  },
  {
   "cell_type": "markdown",
   "metadata": {},
   "source": [
    "### Parameter sensitivity analyis \n",
    "\n",
    "### Paraméterérzékenység elemzés \n",
    "\n",
    "Parameter sensitivity analysis can be used to show that we are near to the real minima and study what is the effect of the parameters to the optima \n",
    "\n",
    "A paraméter érzékenységvizsgálat célja hogy elemezzük, milyen hatással van a becsült paraméter módosítása a költségfüggvényre és a modell által  számított értékekre. \n"
   ]
  },
  {
   "cell_type": "code",
   "execution_count": null,
   "metadata": {},
   "outputs": [],
   "source": [
    "E0_range = np.linspace(0.9 * sol.x[0], 1.1 * sol.x[0]) # range of the first parameter /az első paraméter környezete \n",
    "\n",
    "preds = [f([e0, sol.x[1], sol.x[2], sol.x[3]],x) for e0 in E0_range]  # predictions ... \n",
    "\n",
    "errs = [objective([e0, sol.x[1], sol.x[2], sol.x[3]]) for e0 in E0_range]  # Summed squared error as function of E0\n",
    "\n",
    "plt.subplot(211)\n",
    "plt.plot(E0_range, preds)\n",
    "plt.xlabel('E0')\n",
    "plt.ylabel('E')\n",
    "plt.subplot(212)\n",
    "plt.plot(E0_range, errs)\n",
    "plt.axvline(sol.x[0], c='k', ls='--')\n",
    "plt.xlabel('E0')\n",
    "plt.ylabel('summed squared error')"
   ]
  },
  {
   "cell_type": "markdown",
   "metadata": {},
   "source": [
    "\n",
    "# Parameter confidence intervals\n",
    "\n",
    "# Paraméter konfidencia intervallumok\n",
    "\n"
   ]
  },
  {
   "cell_type": "markdown",
   "metadata": {},
   "source": [
    "The aim of confidence analysis is to determine the uncertainty of the parameters. \n",
    "A konfidenciavizsgálat célja a paraméterbizonytalanság meghatározása. \n",
    "\n",
    "\n"
   ]
  },
  {
   "cell_type": "markdown",
   "metadata": {},
   "source": [
    "## Condidence of a point estimate / pontbecslés konfidenciája \n",
    "\n",
    "Firstly, let's consider the uncertainty of the  *mean*  of samlpes taken from a fixed number of data points.\n",
    "Elsőkénmt tekitnsük azt a problémát, hogy egy sokaság átlagát milyen pontossággal tudjuk meghatározni. \n",
    "\n",
    "Let's say we have made 10 measurements that have an average of 3.1, and a standard deviation of 0.1. \n",
    "In what interval is the avarage situated with 95%  probability?\n",
    "\n",
    "Ha 10 mérésünk van melynek átlaga 3.1 és a mérések szórása 0.1, \n",
    "akkor mekkora tartományban található az átlag 95%-os bizonyossággal? \n",
    "\n",
    "Lehet-e 3 az átlag? \n",
    "\n",
    "\n"
   ]
  },
  {
   "cell_type": "code",
   "execution_count": null,
   "metadata": {},
   "outputs": [],
   "source": [
    "from scipy.stats.distributions import t\n",
    "\n",
    "n = 10  # number of measurements /Mérési pontok száma \n",
    "dof = n - 1  # degrees of freedom  - for one property, the mean /Szabadsági fok (az átlag n-1)\n",
    "avg_x = 3  # average measurement - minták átaga \n",
    "std_x = 0.1  # standard deviation of measurements - minták szórása \n",
    "\n",
    "# Find 95% prediction interval for next measurement !!! FONTOS: mekkora valoszinuseggel lesz kint a becslés \n",
    "alpha = 1.0 - 0.95  # = 0.05\n",
    "\n",
    "pred_interval = t.ppf(1 - alpha / 2.0, dof) * std_x / np.sqrt(n) #STD OF THE AVARAGE ... \n",
    "print(pred_interval)\n",
    "plus_side = avg_x + pred_interval\n",
    "minus_side = avg_x - pred_interval\n",
    "\n",
    "print(f'The avarage is in the intervall of {minus_side:1.3f} and {plus_side:1.3f}')"
   ]
  },
  {
   "cell_type": "markdown",
   "metadata": {},
   "source": [
    "## Becsült paraméterek konfidenciája - Confidence of estimated parameters\n"
   ]
  },
  {
   "cell_type": "markdown",
   "metadata": {},
   "source": [
    "Given the data below, fit the following curve:\n",
    "\n",
    "$y(x) = \\frac{a x}{b + x}$ to it.\n",
    "\n",
    "That means, estimate the values of $a, b$ that best fit the data."
   ]
  },
  {
   "cell_type": "code",
   "execution_count": null,
   "metadata": {},
   "outputs": [],
   "source": [
    "%matplotlib inline\n",
    "import matplotlib.pyplot as plt\n",
    "\n",
    "x = np.array([0.5, 0.387, 0.24, 0.136, 0.04, 0.011])\n",
    "y = np.array([1.255, 1.25, 1.189, 1.124, 0.783, 0.402])\n",
    "\n",
    "plt.plot(x, y, 'bo')\n",
    "plt.xlabel('x')\n",
    "plt.ylabel('y')\n"
   ]
  },
  {
   "cell_type": "code",
   "execution_count": null,
   "metadata": {},
   "outputs": [],
   "source": [
    "# this is the function we want to fit to our data\n",
    "def func(x, a, b):\n",
    "    return a * x / (b + x)\n",
    "\n",
    "initial_guess = [3, 2]\n",
    "pars, pcov = curve_fit(func, x, y, p0=initial_guess)\n",
    "\n",
    "print(pars, pcov)\n",
    "\n",
    "plt.plot(x, y, 'bo')\n",
    "xfit = np.linspace(0, 0.5)\n",
    "plt.plot(xfit, func(xfit, *pars))\n",
    "plt.xlabel('x')\n",
    "plt.ylabel('y')\n",
    "plt.legend(['data', 'fit'])"
   ]
  },
  {
   "cell_type": "markdown",
   "metadata": {},
   "source": [
    " the standard deviation of each parameter is defined by:"
   ]
  },
  {
   "cell_type": "code",
   "execution_count": null,
   "metadata": {},
   "outputs": [],
   "source": [
    "np.sqrt(np.diag(pcov))"
   ]
  },
  {
   "cell_type": "markdown",
   "metadata": {},
   "source": [
    "We can use these to estimate confidence intervals on the two parameters."
   ]
  },
  {
   "cell_type": "code",
   "execution_count": null,
   "metadata": {},
   "outputs": [],
   "source": [
    "from scipy.stats.distributions import t\n",
    "\n",
    "alpha = 0.005  # 95% confidence interval = 100*(1-alpha)\n",
    "\n",
    "n = len(y)    # number of data points\n",
    "p = len(pars)  # number of parameters\n",
    "\n",
    "dof = max(0, n - p)  # number of degrees of freedom\n",
    "\n",
    "# student-t value for the dof and confidence level\n",
    "tval = t.ppf(1.0 - alpha / 2., dof)\n",
    "\n",
    "for i, p, var in zip(range(n), pars, np.diag(pcov)):\n",
    "    sigma = var**0.5\n",
    "    print(f'p{i}: {p:1.2f} [{p - sigma * tval:1.3f}  {p + sigma * tval:1.3f}]')"
   ]
  },
  {
   "cell_type": "markdown",
   "metadata": {},
   "source": [
    "The interpretation of this is that we do not know exactly what the parameters are, but we can be 95% confident that they fall in these ranges. These ranges do not include zero, so that is an indication that the parameters are significant."
   ]
  },
  {
   "cell_type": "markdown",
   "metadata": {},
   "source": [
    "## Estimation uncertainty based on the Hessian  \n",
    "## A bizonytalanság becslése a Hessian alapján\n",
    "\n"
   ]
  },
  {
   "cell_type": "code",
   "execution_count": null,
   "metadata": {},
   "outputs": [],
   "source": [
    "# Let's consider this simple linear regression problem \n",
    "# Tekintsük a következő egyszerű lin. reg. feladatot\n",
    "\n",
    "import numpy as np\n",
    "from scipy.optimize import curve_fit\n",
    "\n",
    "x = np.array([0.,    2.5,   5.,    7.5,  10. ])\n",
    "y = np.array([1.14,    1.91,  2.48,  2.2,  4.0])\n",
    "\n",
    "def model(x, m, b):\n",
    "    return m * x + b\n",
    "\n",
    "p, pcov = curve_fit(model, x, y, [0.2, 0.1])\n",
    "print(p)\n",
    "pcov"
   ]
  },
  {
   "cell_type": "markdown",
   "metadata": {},
   "source": [
    "In theory, the covariance matrix and the inverse hessian are related to each other with $cov = 0.5 * H^{-1}$.\n"
   ]
  },
  {
   "cell_type": "code",
   "execution_count": null,
   "metadata": {},
   "outputs": [],
   "source": [
    "from scipy.optimize import minimize\n",
    "\n",
    "def model(pars, x):\n",
    "    x = np.array(x)\n",
    "    m, b = pars\n",
    "    return m * x + b\n",
    "\n",
    "def objective(pars):\n",
    "    errs = y - model(pars, x)\n",
    "    return np.sum(errs**2)\n",
    "\n",
    "sol = minimize(objective, [0.2, 1], tol=1e-9) # Set tol to ensure high precision \n",
    "print(sol.x)\n",
    "print(0.5 * sol.hess_inv)"
   ]
  },
  {
   "cell_type": "code",
   "execution_count": null,
   "metadata": {},
   "outputs": [],
   "source": []
  },
  {
   "cell_type": "code",
   "execution_count": null,
   "metadata": {},
   "outputs": [],
   "source": []
  }
 ],
 "metadata": {
  "kernelspec": {
   "display_name": "Python 3",
   "language": "python",
   "name": "python3"
  },
  "language_info": {
   "codemirror_mode": {
    "name": "ipython",
    "version": 3
   },
   "file_extension": ".py",
   "mimetype": "text/x-python",
   "name": "python",
   "nbconvert_exporter": "python",
   "pygments_lexer": "ipython3",
   "version": "3.7.1"
  },
  "org": {
   "KEYWORDS": "scipy.optimize.minimize, scipy.optimize.curve_fit, pycse.nlinfit, uncertainties"
  }
 },
 "nbformat": 4,
 "nbformat_minor": 1
}
