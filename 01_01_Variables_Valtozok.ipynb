{
 "cells": [
  {
   "cell_type": "markdown",
   "metadata": {},
   "source": [
    "# Variables/Változók\n",
    "\n",
    "## The type of variables in Python/A Python-ban alkalmazott változók típusai\n",
    "\n",
    "\n",
    "<table class=\"tableizer-table\">\n",
    "<thead><tr class=\"tableizer-firstrow\"><th>Name/név</th><th>Type/ Típus</th><th>Description/Leírás</th></tr></thead><tbody>\n",
    " <tr><td>Integers/Egészek</td><td>int</td><td>Whole numbers/Egész számok: 3, 100, 142</td></tr>\n",
    " <tr><td>Floating point/Lebegő pont</td><td>float</td><td>Numbers with decimal point/törtszámok: 2.3, 4.6, 100.0</td></tr>\n",
    " <tr><td>Strings/szövegek</td><td>str</td><td>Ordered sequence of characters/Karakterek rendezett sorozata: \"hello\", 'Sammy', \"2000\"</td></tr>\n",
    " <tr><td>Lists/Listák</td><td>list</td><td>Ordered sequence of objects/Objektumok rendezett sorozata: [10,\"hello\",101.2]</td></tr>\n",
    " <tr><td>Dictionaries/Szótárak</td><td>dict</td><td>Unordered \"Key:Value\" pairs/Rendezetlen \"Kulcs:érték\" párok: {\"mykey\":\"value\",\"name\":\"Susy\"}</td></tr>\n",
    " <tr><td>Tuples</td><td>tup</td><td>Ordered immutable sequence of objects/\"Rögzített lista\": (10,\"hello\",101.2)</td></tr>\n",
    " <tr><td>Sets/Halmazok</td><td>set</td><td>Unordered collection of unique objects/Rendezetlen  egyedi vált-k: {\"a\",\"b\"}</td></tr>\n",
    " <tr><td>Booleans/logikai vált.</td><td>bool</td><td>Logical value indicating True or False/Igaz - hamis logikai érték</td></tr>\n",
    "</tbody></table>\n",
    "\n",
    "<br>\n",
    "<br>\n",
    "https://github.com/Pierian-Data/Complete-Python-3-Bootcamp"
   ]
  },
  {
   "cell_type": "code",
   "execution_count": 1,
   "metadata": {
    "scrolled": true
   },
   "outputs": [
    {
     "data": {
      "text/plain": [
       "4"
      ]
     },
     "execution_count": 1,
     "metadata": {},
     "output_type": "execute_result"
    }
   ],
   "source": [
    "# Addition / összeadás\n",
    "3+1"
   ]
  },
  {
   "cell_type": "code",
   "execution_count": 2,
   "metadata": {},
   "outputs": [
    {
     "data": {
      "text/plain": [
       "2"
      ]
     },
     "execution_count": 2,
     "metadata": {},
     "output_type": "execute_result"
    }
   ],
   "source": [
    "# Substraction / kivonás\n",
    "3-1"
   ]
  },
  {
   "cell_type": "code",
   "execution_count": 3,
   "metadata": {},
   "outputs": [
    {
     "data": {
      "text/plain": [
       "6"
      ]
     },
     "execution_count": 3,
     "metadata": {},
     "output_type": "execute_result"
    }
   ],
   "source": [
    "# Multiplication / szorzás\n",
    "3*2"
   ]
  },
  {
   "cell_type": "code",
   "execution_count": 4,
   "metadata": {},
   "outputs": [
    {
     "data": {
      "text/plain": [
       "1.5"
      ]
     },
     "execution_count": 4,
     "metadata": {},
     "output_type": "execute_result"
    }
   ],
   "source": [
    "# Division / osztás\n",
    "3/2"
   ]
  },
  {
   "cell_type": "code",
   "execution_count": 5,
   "metadata": {},
   "outputs": [
    {
     "data": {
      "text/plain": [
       "2"
      ]
     },
     "execution_count": 5,
     "metadata": {},
     "output_type": "execute_result"
    }
   ],
   "source": [
    "# Floor division / Egészértékű osztás\n",
    "10//4"
   ]
  },
  {
   "cell_type": "code",
   "execution_count": 6,
   "metadata": {},
   "outputs": [
    {
     "data": {
      "text/plain": [
       "2"
      ]
     },
     "execution_count": 6,
     "metadata": {},
     "output_type": "execute_result"
    }
   ],
   "source": [
    "# Remainder after division / Maradék\n",
    "10%4"
   ]
  },
  {
   "cell_type": "code",
   "execution_count": 7,
   "metadata": {},
   "outputs": [
    {
     "data": {
      "text/plain": [
       "8"
      ]
     },
     "execution_count": 7,
     "metadata": {},
     "output_type": "execute_result"
    }
   ],
   "source": [
    "# Powers / Hatványok\n",
    "2**3"
   ]
  },
  {
   "cell_type": "markdown",
   "metadata": {},
   "source": [
    "# 1. Strings/Szövegek - Indexing/Indexelés\n",
    "\n",
    "\n",
    "<table class=\"tableizer-table\">\n",
    "<thead><tr class=\"tableizer-firstrow\"><th>Character</th><th>h</th><th>e</th><th>l</th><th>l</th><th>o</th></tr></thead><tbody>\n",
    " <tr><td>Index</td><td>0</td><td>1</td><td>2</td><td>3</td><td>4</td></tr>\n",
    " <tr><td>Reverse index</td><td>0</td><td>-4</td><td>-3</td><td>-2</td><td>-1</td></tr>\n",
    "</tbody></table>\n",
    "\n",
    "\n",
    "Variable names / Változók elnevezése:\n",
    "1. Names cannot start with a number. / A nevek nem kezdődhetnek számmal.\n",
    "2. There can be no spaces in the name, use _ instead. / Space nem szerepelhet a nevekben, a _ használata ajánlott.\n",
    "3. Can't use any of these symbols / nem használhatóak az alábbi karakterek :'\",<>/?|\\()!@#$%^&*~-+\n",
    "4. It's considered best practice (PEP8) that names are lowercase. / Célszerű a változók neveit végig kisbetűvel írni.\n",
    "5. Avoid using the characters 'l' (lowercase letter el), 'O' (uppercase letter oh), or 'I' (uppercase letter eye) as single character variable names. / Kerüljük a kis l (L betű), nagy o (O betű), vagy a nagy i (I betű) használatát önálló változónévként. \n",
    "6. Avoid using words that have special meaning in Python like \"list\" and \"str\". / Ne használjunk olyan neveket, amelyeknek Pythonban speciális jelentése lehet, mint a \"list\" vagy \"str\". \n",
    "\n"
   ]
  },
  {
   "cell_type": "code",
   "execution_count": 8,
   "metadata": {},
   "outputs": [
    {
     "name": "stdout",
     "output_type": "stream",
     "text": [
      "MOL Petrolkémia\n"
     ]
    }
   ],
   "source": [
    "string_valt = \"MOL Petrolkémia\"\n",
    "print(string_valt)"
   ]
  },
  {
   "cell_type": "code",
   "execution_count": 9,
   "metadata": {},
   "outputs": [],
   "source": [
    "# Assign the 3rd character / Jelöld ki a 3. karaktert:\n"
   ]
  },
  {
   "cell_type": "code",
   "execution_count": 10,
   "metadata": {},
   "outputs": [],
   "source": [
    "# Assign the character in the last but one position / Jelöld ki az utolsó előtti karaktert:\n"
   ]
  },
  {
   "cell_type": "code",
   "execution_count": 11,
   "metadata": {},
   "outputs": [],
   "source": [
    "# from the 4rd till the end / A 4-től a végéig\n"
   ]
  },
  {
   "cell_type": "code",
   "execution_count": 12,
   "metadata": {},
   "outputs": [],
   "source": [
    "# from the first till the 3rd (0-1-2-3) / Az elsőtől a harmadikig:\n"
   ]
  },
  {
   "cell_type": "code",
   "execution_count": 13,
   "metadata": {},
   "outputs": [],
   "source": [
    "# every 2nd element / minden második elemet\n"
   ]
  },
  {
   "cell_type": "code",
   "execution_count": 14,
   "metadata": {},
   "outputs": [],
   "source": [
    "# Reverse order / Fordított sorrend\n"
   ]
  },
  {
   "cell_type": "code",
   "execution_count": 15,
   "metadata": {},
   "outputs": [],
   "source": [
    "# The same strings two times after each other / Ugyanaz a string kétszer egymás után:\n"
   ]
  },
  {
   "cell_type": "code",
   "execution_count": 16,
   "metadata": {
    "scrolled": true
   },
   "outputs": [],
   "source": [
    "# The same strings three times after each other / Ugyanaz a string háromszor egymás után:\n"
   ]
  },
  {
   "cell_type": "markdown",
   "metadata": {},
   "source": [
    "### Methods and functions"
   ]
  },
  {
   "cell_type": "code",
   "execution_count": 17,
   "metadata": {},
   "outputs": [
    {
     "data": {
      "text/plain": [
       "'MOL PETROLKÉMIA'"
      ]
     },
     "execution_count": 17,
     "metadata": {},
     "output_type": "execute_result"
    }
   ],
   "source": [
    "string_valt.upper()"
   ]
  },
  {
   "cell_type": "code",
   "execution_count": 18,
   "metadata": {},
   "outputs": [
    {
     "data": {
      "text/plain": [
       "'mol petrolkémia'"
      ]
     },
     "execution_count": 18,
     "metadata": {},
     "output_type": "execute_result"
    }
   ],
   "source": [
    "string_valt.lower()"
   ]
  },
  {
   "cell_type": "code",
   "execution_count": 19,
   "metadata": {},
   "outputs": [
    {
     "data": {
      "text/plain": [
       "['MOL', 'Petrolkémia']"
      ]
     },
     "execution_count": 19,
     "metadata": {},
     "output_type": "execute_result"
    }
   ],
   "source": [
    "string_valt.split() "
   ]
  },
  {
   "cell_type": "code",
   "execution_count": 20,
   "metadata": {},
   "outputs": [
    {
     "data": {
      "text/plain": [
       "['MOL Petr', 'lkémia']"
      ]
     },
     "execution_count": 20,
     "metadata": {},
     "output_type": "execute_result"
    }
   ],
   "source": [
    "string_valt.split('o') # splits at every 'o'"
   ]
  },
  {
   "cell_type": "code",
   "execution_count": 21,
   "metadata": {},
   "outputs": [
    {
     "data": {
      "text/plain": [
       "15"
      ]
     },
     "execution_count": 21,
     "metadata": {},
     "output_type": "execute_result"
    }
   ],
   "source": [
    "len(string_valt)"
   ]
  },
  {
   "cell_type": "markdown",
   "metadata": {},
   "source": [
    "# 2. Lists/Listák"
   ]
  },
  {
   "cell_type": "code",
   "execution_count": 22,
   "metadata": {},
   "outputs": [
    {
     "name": "stdout",
     "output_type": "stream",
     "text": [
      "['string in list', 44, 5.12, 'mol']\n"
     ]
    }
   ],
   "source": [
    "list_valt = ['string in list',44,5.12,'mol']\n",
    "print(list_valt)"
   ]
  },
  {
   "cell_type": "code",
   "execution_count": 23,
   "metadata": {},
   "outputs": [],
   "source": [
    "# Add the 'data mining' list to it / Adjuk hozzá a 'data mining' listát! (+[])\n"
   ]
  },
  {
   "cell_type": "code",
   "execution_count": 24,
   "metadata": {},
   "outputs": [
    {
     "data": {
      "text/plain": [
       "['string in list', 44, 5.12, 'mol']"
      ]
     },
     "execution_count": 24,
     "metadata": {},
     "output_type": "execute_result"
    }
   ],
   "source": [
    "# Take care, it is not permanent! / Vigyázat, ilyenkor ez még nem maradandó változás!\n",
    "list_valt"
   ]
  },
  {
   "cell_type": "code",
   "execution_count": 25,
   "metadata": {},
   "outputs": [],
   "source": [
    "# Make it permanent / Tegyük állandóvá\n"
   ]
  },
  {
   "cell_type": "code",
   "execution_count": 26,
   "metadata": {},
   "outputs": [],
   "source": [
    "# The same list two times after each other / Kétszer egymás után ugyanaz a lista:\n"
   ]
  },
  {
   "cell_type": "code",
   "execution_count": 27,
   "metadata": {},
   "outputs": [],
   "source": [
    "# Making a nested list / Beágyazott listák készítése\n",
    "\n",
    "\n",
    "\n"
   ]
  },
  {
   "cell_type": "code",
   "execution_count": 28,
   "metadata": {},
   "outputs": [],
   "source": [
    "# Assign the first first in the nested list / Jelöljük ki a beágyazott listában az első listát\n"
   ]
  },
  {
   "cell_type": "code",
   "execution_count": 29,
   "metadata": {},
   "outputs": [],
   "source": [
    "# Assign the first element in the first list in the nested list / Jelöljük ki a beágyazott listában az első lista első elemét\n"
   ]
  },
  {
   "cell_type": "code",
   "execution_count": 30,
   "metadata": {},
   "outputs": [],
   "source": [
    "# Make a list of the first letters using a for cicle / For ciklussal készítsünk egy listát a beágyazott listák első elemeivel:\n"
   ]
  },
  {
   "cell_type": "markdown",
   "metadata": {},
   "source": [
    "**Reassign 'hello' in this nested list to say 'goodbye' instead: / Írd át a 'hello' szót 'goodbye'-ra:**\n",
    "list3 = [1,2,[3,4,'hello']]"
   ]
  },
  {
   "cell_type": "code",
   "execution_count": 31,
   "metadata": {},
   "outputs": [],
   "source": [
    "list3 = [1,2,[3,4,'hello']]\n"
   ]
  },
  {
   "cell_type": "markdown",
   "metadata": {},
   "source": [
    "**Sort the list below: / Rakd sorba a listát: ** list4 = [5,3,4,6,1]"
   ]
  },
  {
   "cell_type": "code",
   "execution_count": 32,
   "metadata": {},
   "outputs": [],
   "source": [
    "list4 = [5,3,4,6,1]\n"
   ]
  },
  {
   "cell_type": "markdown",
   "metadata": {},
   "source": [
    "### Methods and functions"
   ]
  },
  {
   "cell_type": "code",
   "execution_count": 33,
   "metadata": {},
   "outputs": [
    {
     "data": {
      "text/plain": [
       "['string in list', 44, 5.12, 'mol', 'műanyag']"
      ]
     },
     "execution_count": 33,
     "metadata": {},
     "output_type": "execute_result"
    }
   ],
   "source": [
    "# Appending a new element / Új elem hozzáfűzése\n",
    "list_valt.append('műanyag')\n",
    "list_valt"
   ]
  },
  {
   "cell_type": "code",
   "execution_count": 34,
   "metadata": {},
   "outputs": [
    {
     "name": "stdout",
     "output_type": "stream",
     "text": [
      "műanyag\n",
      "['string in list', 44, 5.12, 'mol']\n"
     ]
    }
   ],
   "source": [
    "# Popping out an element / Egy elem kivétele\n",
    "kivett = list_valt.pop() # the default index of the popped element is -1 / a kivett elem indexe alapbeállításként a -1\n",
    "print(kivett)\n",
    "print(list_valt)"
   ]
  },
  {
   "cell_type": "code",
   "execution_count": 35,
   "metadata": {},
   "outputs": [
    {
     "name": "stdout",
     "output_type": "stream",
     "text": [
      "mol\n",
      "['string in list', 44, 5.12]\n"
     ]
    }
   ],
   "source": [
    "kivett2 = list_valt.pop(3)\n",
    "print(kivett2)\n",
    "print(list_valt)"
   ]
  },
  {
   "cell_type": "code",
   "execution_count": 36,
   "metadata": {},
   "outputs": [],
   "source": [
    "# Reverse order (PERMANENT!) / Fordított sorrend (ÍGY MARAD!)\n",
    "list_valt.reverse()"
   ]
  },
  {
   "cell_type": "code",
   "execution_count": 37,
   "metadata": {},
   "outputs": [
    {
     "data": {
      "text/plain": [
       "[5.12, 44, 'string in list']"
      ]
     },
     "execution_count": 37,
     "metadata": {},
     "output_type": "execute_result"
    }
   ],
   "source": [
    "list_valt"
   ]
  },
  {
   "cell_type": "markdown",
   "metadata": {},
   "source": [
    "# 3. Dictionaries\n",
    "\n",
    "<ul>\n",
    "  <li>Dictionaries use a key-value pair to store objects in an unordered list. / A szótárak kulcs-érték formájában egy rendezetlen listában tárolják az elemeket.</li>\n",
    "  <li>You can use the key-value pair to quickly grab the objects without knowing its index. / Ezzel a kulcs-érték párral az elem indexének ismerete nélkül is ki tudod azt jelölni.</li>\n",
    "</ul>\n",
    "\n"
   ]
  },
  {
   "cell_type": "code",
   "execution_count": 38,
   "metadata": {},
   "outputs": [],
   "source": [
    "# Making a dictionary/Szótár készítése: {'key1':'value1','key2':'value2'}\n",
    "dict_valt = {'key1':'value1','key2':'value2'}\n",
    "dict_valt = {'data':'mining','machine':'learning'}"
   ]
  },
  {
   "cell_type": "code",
   "execution_count": 39,
   "metadata": {},
   "outputs": [
    {
     "data": {
      "text/plain": [
       "'mining'"
      ]
     },
     "execution_count": 39,
     "metadata": {},
     "output_type": "execute_result"
    }
   ],
   "source": [
    "# Assign the value with the 'data' key / Jelöljük ki a 'data' kulcshoz tartozó értéket \n",
    "dict_valt['data']"
   ]
  },
  {
   "cell_type": "code",
   "execution_count": 40,
   "metadata": {},
   "outputs": [],
   "source": [
    "dict_valt = {'k1':44,'k2':[11,22,33],'k3':['str0','str1','str2']}"
   ]
  },
  {
   "cell_type": "code",
   "execution_count": 41,
   "metadata": {},
   "outputs": [
    {
     "data": {
      "text/plain": [
       "'str0'"
      ]
     },
     "execution_count": 41,
     "metadata": {},
     "output_type": "execute_result"
    }
   ],
   "source": [
    "# Assign the 'str0' string / jelöljük ki a 'str0' érétket.\n",
    "dict_valt['k3'][0]"
   ]
  },
  {
   "cell_type": "code",
   "execution_count": 42,
   "metadata": {},
   "outputs": [],
   "source": [
    "# Adding a new list with 'k4' key ['new','dict','element'] / Adjuk hozzáa ['new','dict','element'] listát 'k4' kulccsal\n"
   ]
  },
  {
   "cell_type": "code",
   "execution_count": 43,
   "metadata": {},
   "outputs": [
    {
     "data": {
      "text/plain": [
       "{'k1': 44, 'k2': [11, 22, 33], 'k3': ['str0', 'str1', 'str2']}"
      ]
     },
     "execution_count": 43,
     "metadata": {},
     "output_type": "execute_result"
    }
   ],
   "source": [
    "dict_valt"
   ]
  },
  {
   "cell_type": "code",
   "execution_count": 44,
   "metadata": {},
   "outputs": [],
   "source": [
    "# Nested dictionaries / beágyazott szótárak\n",
    "d = {'k1':{'nestkey':{'subnestkey':'legbelül'}}}\n",
    "# Calling by keys / A kulcsokkal meghívható\n"
   ]
  },
  {
   "cell_type": "code",
   "execution_count": 45,
   "metadata": {},
   "outputs": [],
   "source": [
    "d = {'k1':{'belsokulcs':{'legbelsokulcs':'legbelul'}}}\n"
   ]
  },
  {
   "cell_type": "markdown",
   "metadata": {},
   "source": [
    "**Two simple tasks / Két egyszerű példa:**"
   ]
  },
  {
   "cell_type": "code",
   "execution_count": 46,
   "metadata": {},
   "outputs": [
    {
     "name": "stdout",
     "output_type": "stream",
     "text": [
      "hello\n",
      "hello\n"
     ]
    }
   ],
   "source": [
    "d = {'k1':{'k2':'hello'}}\n",
    "# Grab 'hello'\n",
    "print(d['k1']['k2'])\n",
    "\n",
    "# Getting a little tricker\n",
    "d = {'k1':[{'nest_key':['this is deep',['hello']]}]}\n",
    "#Grab hello\n",
    "print(d['k1'][0]['nest_key'][1][0])\n"
   ]
  },
  {
   "cell_type": "markdown",
   "metadata": {},
   "source": [
    "### Methods and functions"
   ]
  },
  {
   "cell_type": "code",
   "execution_count": 47,
   "metadata": {},
   "outputs": [
    {
     "data": {
      "text/plain": [
       "dict_keys(['k1', 'k2', 'k3'])"
      ]
     },
     "execution_count": 47,
     "metadata": {},
     "output_type": "execute_result"
    }
   ],
   "source": [
    "# List of all keys / \"Kulcsok\" listája\n",
    "dict_valt.keys()"
   ]
  },
  {
   "cell_type": "code",
   "execution_count": 48,
   "metadata": {},
   "outputs": [
    {
     "data": {
      "text/plain": [
       "dict_values([44, [11, 22, 33], ['str0', 'str1', 'str2']])"
      ]
     },
     "execution_count": 48,
     "metadata": {},
     "output_type": "execute_result"
    }
   ],
   "source": [
    "# List of all values / \"Értékek\" listája\n",
    "dict_valt.values()"
   ]
  },
  {
   "cell_type": "code",
   "execution_count": 49,
   "metadata": {},
   "outputs": [],
   "source": [
    "# Creating a tuple of the key:value pairs / Tuple készítése a kulcs:érték párokból\n",
    "a = dict_valt.items()"
   ]
  },
  {
   "cell_type": "code",
   "execution_count": 50,
   "metadata": {},
   "outputs": [
    {
     "data": {
      "text/plain": [
       "'STR2'"
      ]
     },
     "execution_count": 50,
     "metadata": {},
     "output_type": "execute_result"
    }
   ],
   "source": [
    "# Moreover, we can then even call methods on the grabbed value! / A kiválaszott értéken tudunk methodokat meghívni!!\n",
    "dict_valt['k3'][2].upper()"
   ]
  },
  {
   "cell_type": "code",
   "execution_count": 51,
   "metadata": {},
   "outputs": [
    {
     "data": {
      "text/plain": [
       "'str2'"
      ]
     },
     "execution_count": 51,
     "metadata": {},
     "output_type": "execute_result"
    }
   ],
   "source": [
    "dict_valt['k3'][2]"
   ]
  },
  {
   "cell_type": "code",
   "execution_count": 52,
   "metadata": {},
   "outputs": [],
   "source": [
    "dict_valt['k3'][2] = dict_valt['k3'][2].upper()"
   ]
  },
  {
   "cell_type": "code",
   "execution_count": 53,
   "metadata": {},
   "outputs": [
    {
     "data": {
      "text/plain": [
       "{'k1': 44, 'k2': [11, 22, 33], 'k3': ['str0', 'str1', 'STR2']}"
      ]
     },
     "execution_count": 53,
     "metadata": {},
     "output_type": "execute_result"
    }
   ],
   "source": [
    "dict_valt"
   ]
  },
  {
   "cell_type": "markdown",
   "metadata": {},
   "source": [
    "# 4. Tuples\n",
    "\n",
    "<ul>\n",
    "  <li>Tuples are IMMUTABLE lists! / A tuple-k olyan listák, amiket NEM lehet megváltoztatni.</li>\n",
    "  <li> The elements of a tuple cannot be reassigned. / A tuple elemeit nem lehet újra definiálni. </li>\n",
    "  <li>Tuples use parenthesis: (1,2,3) / A tuple-ket zárójelben adjuk meg: (1,2,3)</li>\n",
    "</ul>\n"
   ]
  },
  {
   "cell_type": "code",
   "execution_count": 54,
   "metadata": {},
   "outputs": [
    {
     "data": {
      "text/plain": [
       "(1, 2, 3)"
      ]
     },
     "execution_count": 54,
     "metadata": {},
     "output_type": "execute_result"
    }
   ],
   "source": [
    "tuple_valt = (1,2,3)\n",
    "tuple_valt"
   ]
  },
  {
   "cell_type": "code",
   "execution_count": 55,
   "metadata": {},
   "outputs": [
    {
     "data": {
      "text/plain": [
       "('string is lehet benne', 2)"
      ]
     },
     "execution_count": 55,
     "metadata": {},
     "output_type": "execute_result"
    }
   ],
   "source": [
    "tuple_valt2 = ('string is lehet benne',2)\n",
    "tuple_valt2"
   ]
  },
  {
   "cell_type": "code",
   "execution_count": 56,
   "metadata": {},
   "outputs": [],
   "source": [
    "# tuple_valt[0] = 0"
   ]
  },
  {
   "cell_type": "code",
   "execution_count": 57,
   "metadata": {},
   "outputs": [],
   "source": [
    "# tuple_valt.append('meg egy')"
   ]
  },
  {
   "cell_type": "markdown",
   "metadata": {},
   "source": [
    "### Methods and functions"
   ]
  },
  {
   "cell_type": "code",
   "execution_count": 58,
   "metadata": {},
   "outputs": [
    {
     "data": {
      "text/plain": [
       "0"
      ]
     },
     "execution_count": 58,
     "metadata": {},
     "output_type": "execute_result"
    }
   ],
   "source": [
    "# .index method returns the index of the element / a .index method visszadja az elem indexét\n",
    "tuple_valt2.index('string is lehet benne')"
   ]
  },
  {
   "cell_type": "code",
   "execution_count": 59,
   "metadata": {},
   "outputs": [
    {
     "data": {
      "text/plain": [
       "1"
      ]
     },
     "execution_count": 59,
     "metadata": {},
     "output_type": "execute_result"
    }
   ],
   "source": [
    "# .count method counts the number of times a value appears / a .count method visszadja az elem előfordulásainak számát\n",
    "tuple_valt2.count('string is lehet benne')"
   ]
  },
  {
   "cell_type": "markdown",
   "metadata": {},
   "source": [
    "# 4. Sets\n",
    "\n",
    "Sets are UNORDERED and UNIQUE elements. / A halmazok RENDEZETLEN és EGYEDI változókat tartalmaznak.\n"
   ]
  },
  {
   "cell_type": "code",
   "execution_count": 60,
   "metadata": {},
   "outputs": [
    {
     "data": {
      "text/plain": [
       "set()"
      ]
     },
     "execution_count": 60,
     "metadata": {},
     "output_type": "execute_result"
    }
   ],
   "source": [
    "x = set()\n",
    "x"
   ]
  },
  {
   "cell_type": "code",
   "execution_count": 61,
   "metadata": {},
   "outputs": [
    {
     "data": {
      "text/plain": [
       "{1}"
      ]
     },
     "execution_count": 61,
     "metadata": {},
     "output_type": "execute_result"
    }
   ],
   "source": [
    "# Adding elements by the .add() method\n",
    "x.add(1)\n",
    "x"
   ]
  },
  {
   "cell_type": "code",
   "execution_count": 62,
   "metadata": {},
   "outputs": [
    {
     "data": {
      "text/plain": [
       "{1, 2}"
      ]
     },
     "execution_count": 62,
     "metadata": {},
     "output_type": "execute_result"
    }
   ],
   "source": [
    "# Curly brackets, but these are not dictionaries! / Kapcsol zárójelben van, de nem dictionary.\n",
    "x.add(2)\n",
    "x"
   ]
  },
  {
   "cell_type": "code",
   "execution_count": 63,
   "metadata": {},
   "outputs": [
    {
     "data": {
      "text/plain": [
       "{1, 2}"
      ]
     },
     "execution_count": 63,
     "metadata": {},
     "output_type": "execute_result"
    }
   ],
   "source": [
    "# Cannot add the same value multiple times\n",
    "x.add(1)\n",
    "x"
   ]
  },
  {
   "cell_type": "code",
   "execution_count": 64,
   "metadata": {},
   "outputs": [
    {
     "data": {
      "text/plain": [
       "{1, 2, 10, 15.5, 20}"
      ]
     },
     "execution_count": 64,
     "metadata": {},
     "output_type": "execute_result"
    }
   ],
   "source": [
    "# We can use this to get the unique elements of a list:\n",
    "list1 = [1,1,2,10,15.5,15.5,20,20,20]\n",
    "set(list1)"
   ]
  },
  {
   "cell_type": "markdown",
   "metadata": {},
   "source": [
    "# 5. Booleans\n",
    "\n",
    "Booleans are operators that are the results of True or False statements. / A logikai változók igaz-hamis állítások eredményei.\n"
   ]
  },
  {
   "cell_type": "code",
   "execution_count": 65,
   "metadata": {},
   "outputs": [
    {
     "data": {
      "text/plain": [
       "True"
      ]
     },
     "execution_count": 65,
     "metadata": {},
     "output_type": "execute_result"
    }
   ],
   "source": [
    "# Boolean variable / Logikai változó\n",
    "a = True\n",
    "a"
   ]
  },
  {
   "cell_type": "code",
   "execution_count": 66,
   "metadata": {},
   "outputs": [
    {
     "data": {
      "text/plain": [
       "False"
      ]
     },
     "execution_count": 66,
     "metadata": {},
     "output_type": "execute_result"
    }
   ],
   "source": [
    "1>2"
   ]
  },
  {
   "cell_type": "code",
   "execution_count": 67,
   "metadata": {},
   "outputs": [
    {
     "name": "stdout",
     "output_type": "stream",
     "text": [
      "None\n"
     ]
    }
   ],
   "source": [
    "# We can define a None as a placeholder / None-t tudunk megadni, ha még csak a változóüt akarjuk definiálni\n",
    "b = None\n",
    "print(b)"
   ]
  }
 ],
 "metadata": {
  "kernelspec": {
   "display_name": "Python 3",
   "language": "python",
   "name": "python3"
  },
  "language_info": {
   "codemirror_mode": {
    "name": "ipython",
    "version": 3
   },
   "file_extension": ".py",
   "mimetype": "text/x-python",
   "name": "python",
   "nbconvert_exporter": "python",
   "pygments_lexer": "ipython3",
   "version": "3.7.1"
  }
 },
 "nbformat": 4,
 "nbformat_minor": 2
}
