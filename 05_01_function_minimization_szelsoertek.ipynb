{
 "cells": [
  {
   "cell_type": "markdown",
   "metadata": {},
   "source": [
    "\n",
    "# Function minimization - Szélsőérték keresés \n",
    "\n"
   ]
  },
  {
   "cell_type": "markdown",
   "metadata": {},
   "source": [
    "It is pretty common to need to find extreme values of a function. \n",
    "An extreme value is often a maximum or minimum in a function, \n",
    "and we seek them when we want to maximize a profit function, \n",
    "or minimize a cost function or risk.\n",
    "\n",
    "\n",
    "A mérnöki és gazdasági problémák gyakran költségfüggvények minimalizálásához \n",
    "vagy maximalizáásához kapcsolódnak \n",
    "(pl. profit maximalizálása, kockázat minimalizálása), \n",
    "így rendkívül fontos feladat, \n",
    "hogy elsajátítsuk Pythonban a szélesőérétkkeresésre alakalmas eszközök alkalmazását. \n",
    "\n",
    "Első körben tekintsük a következő, egyszerüen vizualizálható problémát. \n",
    "\n"
   ]
  },
  {
   "cell_type": "code",
   "execution_count": 15,
   "metadata": {},
   "outputs": [
    {
     "data": {
      "text/plain": [
       "[<matplotlib.lines.Line2D at 0x233fc5e90b8>]"
      ]
     },
     "execution_count": 15,
     "metadata": {},
     "output_type": "execute_result"
    },
    {
     "data": {
      "image/png": "[encoded data removed]",
      "text/plain": [
       "<Figure size 432x288 with 1 Axes>"
      ]
     },
     "metadata": {
      "needs_background": "light"
     },
     "output_type": "display_data"
    }
   ],
   "source": [
    "import numpy as np\n",
    "%matplotlib inline\n",
    "import matplotlib.pyplot as plt\n",
    "\n",
    "def f(x): # let' define a cost function - költségfüggvény definiálása  \n",
    "    return (x-2.15)**2+4 \n",
    "\n",
    "x = np.linspace(0, 4,10)\n",
    "y = f(x)\n",
    "plt.plot(x, y)"
   ]
  },
  {
   "cell_type": "code",
   "execution_count": 16,
   "metadata": {},
   "outputs": [
    {
     "data": {
      "text/plain": [
       "4.0052160493827165"
      ]
     },
     "execution_count": 16,
     "metadata": {},
     "output_type": "execute_result"
    }
   ],
   "source": [
    "min(y)"
   ]
  },
  {
   "cell_type": "code",
   "execution_count": 17,
   "metadata": {},
   "outputs": [
    {
     "data": {
      "text/plain": [
       "array([8.6225    , 6.90891975, 5.59040123, 4.66694444, 4.13854938,\n",
       "       4.00521605, 4.26694444, 4.92373457, 5.97558642, 7.4225    ])"
      ]
     },
     "execution_count": 17,
     "metadata": {},
     "output_type": "execute_result"
    }
   ],
   "source": [
    "y"
   ]
  },
  {
   "cell_type": "code",
   "execution_count": 18,
   "metadata": {},
   "outputs": [
    {
     "data": {
      "text/plain": [
       "5"
      ]
     },
     "execution_count": 18,
     "metadata": {},
     "output_type": "execute_result"
    }
   ],
   "source": [
    "np.argmin(y)"
   ]
  },
  {
   "cell_type": "code",
   "execution_count": 19,
   "metadata": {},
   "outputs": [
    {
     "data": {
      "text/plain": [
       "2.2222222222222223"
      ]
     },
     "execution_count": 19,
     "metadata": {},
     "output_type": "execute_result"
    }
   ],
   "source": [
    "x[np.argmin(y)]"
   ]
  },
  {
   "cell_type": "markdown",
   "metadata": {},
   "source": [
    "You can see there is a minimum near 2. The accuracy depents on the number of points we discretize the function over.\n",
    "\n",
    "Ahogy látható, a függvény minimuma 2 környékén található. Az optimum helyének pontossága pontossága pedig a diszrektizálás felbontásától függ. \n",
    "\n"
   ]
  },
  {
   "cell_type": "markdown",
   "metadata": {},
   "source": [
    "The method is easy but requires many function evaluations and finds extremes at the borders that are not necessarily fulfill f'(x) = 0.\n",
    "\n",
    "A módszer előnye egyszerüségében rejlik. Hátránya, hogy adott pontosság eléréséhez nagyon sok függvénykiértékelés szükséges, mely különösen tübbváltozós esetben nem kivitelezhető. \n",
    "\n"
   ]
  },
  {
   "cell_type": "markdown",
   "metadata": {},
   "source": [
    "\n",
    "## Find the derivative, and solve for where it is zero\n",
    "\n",
    "## Optimum: ahol a derivált nulla \n",
    "\n"
   ]
  },
  {
   "cell_type": "markdown",
   "metadata": {},
   "source": [
    "We can also derive the first derivative / Az első derivált: \n",
    "\n",
    "$y' = 2 * (x-2.15) $\n",
    "\n",
    "and solve it for zero using fsolve /amit fsolve-al megoldhatunk (esetünkben triviális) \n",
    "\n"
   ]
  },
  {
   "cell_type": "code",
   "execution_count": 20,
   "metadata": {},
   "outputs": [
    {
     "data": {
      "text/plain": [
       "array([2.15])"
      ]
     },
     "execution_count": 20,
     "metadata": {},
     "output_type": "execute_result"
    }
   ],
   "source": [
    "def yp(x):\n",
    "    return 2 * (x-2.15)\n",
    "\n",
    "from scipy.optimize import fsolve\n",
    "fsolve(yp, 0) #0: staring point of the search / keresés kezdeti értéke "
   ]
  },
  {
   "cell_type": "markdown",
   "metadata": {},
   "source": [
    "We can also use a numerical derivative of the function. \n",
    "\n",
    "Ha nem akarunk bajlódni a derivált száímtásával, numerikusan is előállíthatjuk\n"
   ]
  },
  {
   "cell_type": "code",
   "execution_count": 21,
   "metadata": {},
   "outputs": [],
   "source": [
    "?fsolve"
   ]
  },
  {
   "cell_type": "code",
   "execution_count": 22,
   "metadata": {},
   "outputs": [
    {
     "data": {
      "text/plain": [
       "array([2.15])"
      ]
     },
     "execution_count": 22,
     "metadata": {},
     "output_type": "execute_result"
    },
    {
     "data": {
      "image/png": "[encoded data removed]",
      "text/plain": [
       "<Figure size 432x288 with 1 Axes>"
      ]
     },
     "metadata": {
      "needs_background": "light"
     },
     "output_type": "display_data"
    }
   ],
   "source": [
    "from scipy.misc import derivative\n",
    "\n",
    "def ypd(x):\n",
    "    return derivative(f, x, dx=1e-6)\n",
    "\n",
    "plt.plot(x,ypd(x))\n",
    "fsolve(ypd, 0.1)"
   ]
  },
  {
   "cell_type": "code",
   "execution_count": 23,
   "metadata": {},
   "outputs": [
    {
     "data": {
      "text/plain": [
       "array([2.15])"
      ]
     },
     "execution_count": 23,
     "metadata": {},
     "output_type": "execute_result"
    }
   ],
   "source": [
    "fsolve(ypd, 10.5) "
   ]
  },
  {
   "cell_type": "markdown",
   "metadata": {},
   "source": [
    "\n",
    "## Newton-Raphson method\n",
    "\n",
    "## Newton-Raphson módszer / egy kis numerikus matek \n",
    "\n"
   ]
  },
  {
   "cell_type": "markdown",
   "metadata": {},
   "source": [
    "To use the Newton-Raphson method to get the minimum, we use an iterative approach with:\n",
    "\n",
    "$x_{n+1} = x_n - \\frac{y'(x_n)}{y''(x_n)}$.\n",
    "\n",
    "We have to derive these formulas if you want to use analytical derivatives:\n",
    "\n",
    "$y' = 2 * (x-2.15)$\n",
    "\n",
    "$y'' = 2$\n",
    "\n",
    "Alternatively, we can estimate the derivatives numerically using `scipy.misc.derivative`. This has the downside of numerical instability for dx that is too small, or low accuracy if it is too large, and the need to check if you made a good choice for it. On the plus side, it avoids making mistakes in the derivative derivation and implementation.\n",
    "\n",
    "\n",
    "A N-R módszer alkalmazásával elkerülhető a gyökkrereső algoritmus alkalmazása,\n",
    "ugyanis követlenül keressük a minimum értéket. \n",
    "Különösen fontos felhívni arra a figyelmet, hogy a deriváltakat a numerikus problémák elkerülése érdekében közvetlenül is megadhatjuk. A deviváltakat a `scipy.misc.derivative` függvénnyel is számíthatjuk, mely módszer előnye, hogy analitikusan nehezen kezelehető eseteket is kellő bizonyossággal erőfeszítések nélkül tudunk kezelni. \n"
   ]
  },
  {
   "cell_type": "code",
   "execution_count": 24,
   "metadata": {},
   "outputs": [
    {
     "data": {
      "text/plain": [
       "(2.1500000000817203, 4.0, -8.881784197001252e-10, 3)"
      ]
     },
     "execution_count": 24,
     "metadata": {},
     "output_type": "execute_result"
    }
   ],
   "source": [
    "from scipy.misc import derivative\n",
    "\n",
    "x0 = 0 # starting point of the search / keresés kezdeti értéke \n",
    "f0 = f(x0)\n",
    "\n",
    "for i in range(15):  #number of max. iterations / iterációk maximális száma \n",
    "    yp = derivative(f, x0, dx=1e-6, n=1)  # y'\n",
    "    ypp = derivative(f, x0, dx=1e-6, n=2) # y''\n",
    "    xnew = x0 - yp / ypp\n",
    "    fnew = f(xnew)\n",
    "\n",
    "    if np.abs(yp) <= 1e-6: # stoppoing criteria .. / leállási feltétel \n",
    "        break #how to step out from the loop / ciklusból kiszállás módja \n",
    "    x0 = xnew\n",
    "    f0 = fnew\n",
    "\n",
    "\n",
    "xnew, fnew, yp, i"
   ]
  },
  {
   "cell_type": "markdown",
   "metadata": {},
   "source": [
    "Fast convergence after three iterations / nagyon gyors konvergencia\n",
    "\n",
    "There is a built-in function for this!!! \n",
    "Nem kell bajlódni, van erre beépített függvény .."
   ]
  },
  {
   "cell_type": "markdown",
   "metadata": {},
   "source": [
    "\n",
    "# scipy.optimize.minimize\n",
    "\n"
   ]
  },
  {
   "cell_type": "code",
   "execution_count": 25,
   "metadata": {},
   "outputs": [],
   "source": [
    "from scipy.optimize import minimize"
   ]
  },
  {
   "cell_type": "code",
   "execution_count": 26,
   "metadata": {},
   "outputs": [
    {
     "data": {
      "text/plain": [
       "      fun: 4.000000000000001\n",
       " hess_inv: array([[0.5]])\n",
       "      jac: array([0.])\n",
       "  message: 'Optimization terminated successfully.'\n",
       "     nfev: 9\n",
       "      nit: 2\n",
       "     njev: 3\n",
       "   status: 0\n",
       "  success: True\n",
       "        x: array([2.15000002])"
      ]
     },
     "execution_count": 26,
     "metadata": {},
     "output_type": "execute_result"
    }
   ],
   "source": [
    "x0 = 0.5 #initialize / kedzeti érték \n",
    "sol = minimize(f,x0)\n",
    "sol"
   ]
  },
  {
   "cell_type": "markdown",
   "metadata": {},
   "source": [
    "\n",
    "## Multiple minima\n",
    "\n"
   ]
  },
  {
   "cell_type": "markdown",
   "metadata": {},
   "source": [
    "It is possible for functions to have more than one (local) minimum. \n",
    "Therefore it is beneficial to start the optimization from a set of different initial guesses.\n",
    "\n",
    "Gyakran előfordulhat, hogy több lokális minimum van. \n",
    "Ilyenkor több kezdeti értékről érdemes indítani az optimálást.\n"
   ]
  },
  {
   "cell_type": "code",
   "execution_count": 29,
   "metadata": {},
   "outputs": [
    {
     "data": {
      "text/plain": [
       "Text(0,0.5,'h(x)')"
      ]
     },
     "execution_count": 29,
     "metadata": {},
     "output_type": "execute_result"
    },
    {
     "data": {
      "image/png": "[encoded data removed]",
      "text/plain": [
       "<Figure size 432x288 with 1 Axes>"
      ]
     },
     "metadata": {
      "needs_background": "light"
     },
     "output_type": "display_data"
    }
   ],
   "source": [
    "def h(x):\n",
    "    return 2 + np.cos(x) + np.cos(2*x - 0.5) / 2\n",
    "\n",
    "x = np.linspace(0, 5 * np.pi, 400)\n",
    "\n",
    "plt.plot(x, h(x), 'bo-')\n",
    "plt.xlabel('x')\n",
    "plt.ylabel('h(x)')"
   ]
  },
  {
   "cell_type": "code",
   "execution_count": 30,
   "metadata": {},
   "outputs": [
    {
     "data": {
      "text/plain": [
       "      fun: 1.0448871783746692\n",
       " hess_inv: array([[0.52336562]])\n",
       "      jac: array([-1.49011612e-08])\n",
       "  message: 'Optimization terminated successfully.'\n",
       "     nfev: 15\n",
       "      nit: 3\n",
       "     njev: 5\n",
       "   status: 0\n",
       "  success: True\n",
       "        x: array([2.26106175])"
      ]
     },
     "execution_count": 30,
     "metadata": {},
     "output_type": "execute_result"
    }
   ],
   "source": [
    "minimize(h, 2)"
   ]
  },
  {
   "cell_type": "code",
   "execution_count": 31,
   "metadata": {},
   "outputs": [
    {
     "data": {
      "text/plain": [
       "      fun: 1.4758979742813436\n",
       " hess_inv: array([[0.94727357]])\n",
       "      jac: array([-9.08970833e-07])\n",
       "  message: 'Optimization terminated successfully.'\n",
       "     nfev: 21\n",
       "      nit: 5\n",
       "     njev: 7\n",
       "   status: 0\n",
       "  success: True\n",
       "        x: array([4.355456])"
      ]
     },
     "execution_count": 31,
     "metadata": {},
     "output_type": "execute_result"
    }
   ],
   "source": [
    "minimize(h, 4)"
   ]
  },
  {
   "cell_type": "code",
   "execution_count": null,
   "metadata": {},
   "outputs": [],
   "source": []
  },
  {
   "cell_type": "code",
   "execution_count": null,
   "metadata": {},
   "outputs": [],
   "source": []
  }
 ],
 "metadata": {
  "kernelspec": {
   "display_name": "Python 3",
   "language": "python",
   "name": "python3"
  },
  "language_info": {
   "codemirror_mode": {
    "name": "ipython",
    "version": 3
   },
   "file_extension": ".py",
   "mimetype": "text/x-python",
   "name": "python",
   "nbconvert_exporter": "python",
   "pygments_lexer": "ipython3",
   "version": "3.7.0"
  },
  "org": {
   "KEYWORDS": "scipy.optimize.minimize"
  }
 },
 "nbformat": 4,
 "nbformat_minor": 1
}
