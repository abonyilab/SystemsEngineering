{
 "cells": [
  {
   "cell_type": "markdown",
   "metadata": {},
   "source": [
    "# 1. Statements\n",
    "\n",
    "The comparison operators in Python / Összehasonlítások Pythonban:\n",
    "\n",
    "<ul>\n",
    "  <li> == </li>\n",
    "  <li> != </li>\n",
    "  <li> > </li>\n",
    "  <li> < </li>\n",
    "  <li> &gt;= </li>\n",
    "  <li> &lt;= </li>\n",
    "</ul>"
   ]
  },
  {
   "cell_type": "code",
   "execution_count": 2,
   "metadata": {},
   "outputs": [
    {
     "name": "stdout",
     "output_type": "stream",
     "text": [
      "False\n",
      "True\n",
      "False\n",
      "True\n",
      "True\n",
      "False\n",
      "False\n"
     ]
    }
   ],
   "source": [
    "a = 5\n",
    "b = 6\n",
    "print(a==b)\n",
    "print(a!=b)\n",
    "print(a>b)\n",
    "print(a<b)\n",
    "print(a<=b)\n",
    "print(a>=b)\n",
    "print(a>=b and a<=b)"
   ]
  },
  {
   "cell_type": "markdown",
   "metadata": {},
   "source": [
    "# 2. if, elif, else\n",
    "\n",
    "Structure / Struktúra:\n",
    "\"Positive number\", \"Zero\", \"Negative number\""
   ]
  },
  {
   "cell_type": "code",
   "execution_count": 3,
   "metadata": {},
   "outputs": [
    {
     "name": "stdout",
     "output_type": "stream",
     "text": [
      "Positive number\n"
     ]
    }
   ],
   "source": [
    "num = 3.4\n",
    "\n",
    "if num>0:\n",
    "    print(\"Positive number\")\n",
    "elif num==0:\n",
    "    print(\"Zero\")\n",
    "else:\n",
    "    print(\"Negative number\")\n"
   ]
  },
  {
   "cell_type": "markdown",
   "metadata": {},
   "source": [
    "Please note that the end of the conditional lines (if, else, elif) is marked with a \":\", while the effect is written in a new line starting at the first inside tab. / \n",
    "Fontos, hogy a feltételi sorok (if, elif, else) végére után mindig \":\" kerül, illetve a következmények új sorba, bentebb kezdve kerülnek megadásra."
   ]
  },
  {
   "cell_type": "code",
   "execution_count": 4,
   "metadata": {},
   "outputs": [
    {
     "name": "stdout",
     "output_type": "stream",
     "text": [
      "Produced by the MOL Petrolkémia!\n"
     ]
    }
   ],
   "source": [
    "Product = 'Műanyag'\n",
    "\n",
    "if Product==\"Műanyag\":\n",
    "    print(\"Produced by the MOL Petrolkémia!\")\n",
    "elif Product==\"Olaj\":\n",
    "    print(\"Produced by the Dunai Finomító!\")\n",
    "else:\n",
    "    print(\"What is this?\")\n"
   ]
  },
  {
   "cell_type": "code",
   "execution_count": 5,
   "metadata": {},
   "outputs": [
    {
     "name": "stdout",
     "output_type": "stream",
     "text": [
      "Enter a number: 5\n",
      "Positive\n"
     ]
    }
   ],
   "source": [
    "#Nemnegatív - negatív, nemnegatív: 0-pozitív\n",
    "num = float(input(\"Enter a number: \"))\n",
    "\n",
    "if num>=0:\n",
    "    if num>0:\n",
    "        print(\"Positive\")\n",
    "    else:\n",
    "        print(\"Zero\")\n",
    "else:\n",
    "    print(\"Negative\")"
   ]
  },
  {
   "cell_type": "markdown",
   "metadata": {},
   "source": [
    "# 3. LOOPs\n",
    "\n",
    "## <code>for</code>"
   ]
  },
  {
   "cell_type": "markdown",
   "metadata": {},
   "source": [
    "General format for a <code>for</code> loop in Python / A <code>for</code> ciklus általános alakja:\n",
    "\n",
    "    for item in object:\n",
    "        statements to do stuff\n",
    "    "
   ]
  },
  {
   "cell_type": "code",
   "execution_count": 6,
   "metadata": {},
   "outputs": [
    {
     "name": "stdout",
     "output_type": "stream",
     "text": [
      "1\n",
      "2\n",
      "4\n",
      "5\n",
      "10\n"
     ]
    }
   ],
   "source": [
    "# Elements of a list / Egy lista elemei\n",
    "list_valt = [1,2,4,5,10]\n",
    "for num in list_valt:\n",
    "    print(num)"
   ]
  },
  {
   "cell_type": "code",
   "execution_count": 7,
   "metadata": {},
   "outputs": [
    {
     "name": "stdout",
     "output_type": "stream",
     "text": [
      "S\n",
      "t\n",
      "r\n",
      "i\n",
      "n\n",
      "g\n",
      " \n",
      "v\n",
      "a\n",
      "l\n",
      "t\n",
      "o\n",
      "z\n",
      "o\n"
     ]
    }
   ],
   "source": [
    "# Letters of a string / Egy string betűi\n",
    "for letter in \"String valtozo\":\n",
    "    print(letter)\n"
   ]
  },
  {
   "cell_type": "markdown",
   "metadata": {},
   "source": [
    "Not just the lists and strings, but almost every type is iterable in a <code>for</code> loop. / <br>\n",
    "Nem csak a listákon és a szövegeken, hanem szinte minden változó típuson végig lehet iterálni a ciklusokban."
   ]
  },
  {
   "cell_type": "code",
   "execution_count": 8,
   "metadata": {},
   "outputs": [
    {
     "name": "stdout",
     "output_type": "stream",
     "text": [
      "(1, 2)\n",
      "(10, 11)\n",
      "(21, 22)\n"
     ]
    }
   ],
   "source": [
    "# list of tuples / tuple-k listája\n",
    "list_of_tups = [(1,2),(10,11),(21,22)]\n",
    "for tup_pair in list_of_tups:\n",
    "    print(tup_pair)"
   ]
  },
  {
   "cell_type": "code",
   "execution_count": 9,
   "metadata": {},
   "outputs": [
    {
     "name": "stdout",
     "output_type": "stream",
     "text": [
      "1\n",
      "10\n",
      "21\n"
     ]
    }
   ],
   "source": [
    "# the same, but with unpacked tuples / Ugyanez, csak kibontott tuple változóval!\n",
    "for (t1,t2) in list_of_tups:\n",
    "    print(t1)"
   ]
  },
  {
   "cell_type": "code",
   "execution_count": 10,
   "metadata": {},
   "outputs": [
    {
     "name": "stdout",
     "output_type": "stream",
     "text": [
      "k1\n",
      "k2\n",
      "k3\n"
     ]
    }
   ],
   "source": [
    "# Dictionary\n",
    "d = {'k1':'PP','k2':'PE','k3':'PS'}\n",
    "for k in d:\n",
    "    print(k)"
   ]
  },
  {
   "cell_type": "code",
   "execution_count": 11,
   "metadata": {},
   "outputs": [
    {
     "name": "stdout",
     "output_type": "stream",
     "text": [
      "PP\n",
      "PE\n",
      "PS\n"
     ]
    }
   ],
   "source": [
    "# Just the values (d.values())\n",
    "d = {'k1':'PP','k2':'PE','k3':'PS'}\n",
    "for k in d.values():\n",
    "    print(k)"
   ]
  },
  {
   "cell_type": "code",
   "execution_count": 12,
   "metadata": {},
   "outputs": [
    {
     "name": "stdout",
     "output_type": "stream",
     "text": [
      "0 a 10\n",
      "1 b 11\n",
      "2 c 12\n"
     ]
    }
   ],
   "source": [
    "# zip-pel több lista egyszerre iterálható\n",
    "list1 = [0,1,2]\n",
    "list2= ['a','b','c']\n",
    "list3 = [10,11,12]\n",
    "for i1,i2,i3 in zip(list1,list2,list3):\n",
    "    print(i1,i2,i3)\n"
   ]
  },
  {
   "cell_type": "code",
   "execution_count": 13,
   "metadata": {},
   "outputs": [
    {
     "name": "stdout",
     "output_type": "stream",
     "text": [
      "0\n",
      "1\n",
      "2\n",
      "3\n",
      "4\n",
      "5\n",
      "6\n",
      "7\n",
      "8\n",
      "9\n"
     ]
    }
   ],
   "source": [
    "# range\n",
    "for i in range(0,10):\n",
    "    print(i)"
   ]
  },
  {
   "cell_type": "code",
   "execution_count": 14,
   "metadata": {},
   "outputs": [
    {
     "name": "stdout",
     "output_type": "stream",
     "text": [
      "0\n",
      "1\n",
      "2\n"
     ]
    }
   ],
   "source": [
    "for i in range(len(list1)):\n",
    "    print(i)"
   ]
  },
  {
   "cell_type": "markdown",
   "metadata": {},
   "source": [
    "** List comprehensions **"
   ]
  },
  {
   "cell_type": "code",
   "execution_count": 20,
   "metadata": {},
   "outputs": [
    {
     "data": {
      "text/plain": [
       "['w', 'o', 'r', 'd']"
      ]
     },
     "execution_count": 20,
     "metadata": {},
     "output_type": "execute_result"
    }
   ],
   "source": [
    "lst = [x for x in \"word\"]\n",
    "lst"
   ]
  },
  {
   "cell_type": "code",
   "execution_count": 22,
   "metadata": {},
   "outputs": [
    {
     "data": {
      "text/plain": [
       "[0, 1, 4, 9, 16, 25, 36, 49, 64, 81, 100]"
      ]
     },
     "execution_count": 22,
     "metadata": {},
     "output_type": "execute_result"
    }
   ],
   "source": [
    "lst = [x**2 for x in range(0,11)]\n",
    "lst"
   ]
  },
  {
   "cell_type": "code",
   "execution_count": 23,
   "metadata": {},
   "outputs": [
    {
     "data": {
      "text/plain": [
       "[0, 2, 4, 6, 8, 10]"
      ]
     },
     "execution_count": 23,
     "metadata": {},
     "output_type": "execute_result"
    }
   ],
   "source": [
    "# Check for even numbers in a range\n",
    "lst = [x for x in range(11) if x % 2 == 0]\n",
    "lst"
   ]
  },
  {
   "cell_type": "code",
   "execution_count": 24,
   "metadata": {},
   "outputs": [
    {
     "data": {
      "text/plain": [
       "[32.0, 50.0, 68.18, 94.1]"
      ]
     },
     "execution_count": 24,
     "metadata": {},
     "output_type": "execute_result"
    }
   ],
   "source": [
    "# Convert Celsius to Fahrenheit\n",
    "celsius = [0,10,20.1,34.5]\n",
    "\n",
    "fahrenheit = [((9/5)*temp + 32) for temp in celsius ]\n",
    "\n",
    "fahrenheit"
   ]
  },
  {
   "cell_type": "markdown",
   "metadata": {},
   "source": [
    "## <code>while</code>"
   ]
  },
  {
   "cell_type": "markdown",
   "metadata": {},
   "source": [
    "    while test:\n",
    "        code statements\n",
    "    else:\n",
    "        final code statements"
   ]
  },
  {
   "cell_type": "code",
   "execution_count": 16,
   "metadata": {},
   "outputs": [
    {
     "name": "stdout",
     "output_type": "stream",
     "text": [
      "x is currently / Az x épp:  0\n",
      "x is still less than 10, adding 1 to x / az x még mindig kevesebb, mint 10, így hozzáadunk 1-et\n",
      "x is currently / Az x épp:  1\n",
      "x is still less than 10, adding 1 to x / az x még mindig kevesebb, mint 10, így hozzáadunk 1-et\n",
      "x is currently / Az x épp:  2\n",
      "x is still less than 10, adding 1 to x / az x még mindig kevesebb, mint 10, így hozzáadunk 1-et\n",
      "x is currently / Az x épp:  3\n",
      "x is still less than 10, adding 1 to x / az x még mindig kevesebb, mint 10, így hozzáadunk 1-et\n",
      "x is currently / Az x épp:  4\n",
      "x is still less than 10, adding 1 to x / az x még mindig kevesebb, mint 10, így hozzáadunk 1-et\n",
      "x is currently / Az x épp:  5\n",
      "x is still less than 10, adding 1 to x / az x még mindig kevesebb, mint 10, így hozzáadunk 1-et\n",
      "x is currently / Az x épp:  6\n",
      "x is still less than 10, adding 1 to x / az x még mindig kevesebb, mint 10, így hozzáadunk 1-et\n",
      "x is currently / Az x épp:  7\n",
      "x is still less than 10, adding 1 to x / az x még mindig kevesebb, mint 10, így hozzáadunk 1-et\n",
      "x is currently / Az x épp:  8\n",
      "x is still less than 10, adding 1 to x / az x még mindig kevesebb, mint 10, így hozzáadunk 1-et\n",
      "x is currently / Az x épp:  9\n",
      "x is still less than 10, adding 1 to x / az x még mindig kevesebb, mint 10, így hozzáadunk 1-et\n",
      "x is currently / Az x épp:  10\n",
      "x is still less than 10, adding 1 to x / az x még mindig kevesebb, mint 10, így hozzáadunk 1-et\n"
     ]
    }
   ],
   "source": [
    "# 'x is currently / Az x épp: '\n",
    "# 'x is still less than 10, adding 1 to x / az x még mindig kevesebb, mint 10, így hozzáadunk 1-et'\n",
    "x = 0\n",
    "while x<=10:\n",
    "    print('x is currently / Az x épp: ',x)\n",
    "    print('x is still less than 10, adding 1 to x / az x még mindig kevesebb, mint 10, így hozzáadunk 1-et')\n",
    "    x += 1"
   ]
  },
  {
   "cell_type": "code",
   "execution_count": 18,
   "metadata": {},
   "outputs": [
    {
     "name": "stdout",
     "output_type": "stream",
     "text": [
      "x is currently / Az x épp:  0\n",
      "x is still less than 10, adding 1 to x / az x még mindig kevesebb, mint 10, így hozzáadunk 1-et\n",
      "x is currently / Az x épp:  1\n",
      "x is still less than 10, adding 1 to x / az x még mindig kevesebb, mint 10, így hozzáadunk 1-et\n",
      "x is currently / Az x épp:  2\n",
      "x is still less than 10, adding 1 to x / az x még mindig kevesebb, mint 10, így hozzáadunk 1-et\n",
      "x is currently / Az x épp:  3\n",
      "x is still less than 10, adding 1 to x / az x még mindig kevesebb, mint 10, így hozzáadunk 1-et\n",
      "x is currently / Az x épp:  4\n",
      "x is still less than 10, adding 1 to x / az x még mindig kevesebb, mint 10, így hozzáadunk 1-et\n",
      "x is currently / Az x épp:  5\n",
      "x is still less than 10, adding 1 to x / az x még mindig kevesebb, mint 10, így hozzáadunk 1-et\n",
      "x is currently / Az x épp:  6\n",
      "x is still less than 10, adding 1 to x / az x még mindig kevesebb, mint 10, így hozzáadunk 1-et\n",
      "x is currently / Az x épp:  7\n",
      "x is still less than 10, adding 1 to x / az x még mindig kevesebb, mint 10, így hozzáadunk 1-et\n",
      "x is currently / Az x épp:  8\n",
      "x is still less than 10, adding 1 to x / az x még mindig kevesebb, mint 10, így hozzáadunk 1-et\n",
      "x is currently / Az x épp:  9\n",
      "x is still less than 10, adding 1 to x / az x még mindig kevesebb, mint 10, így hozzáadunk 1-et\n",
      "x is currently / Az x épp:  10\n",
      "x is still less than 10, adding 1 to x / az x még mindig kevesebb, mint 10, így hozzáadunk 1-et\n",
      "All Done!\n"
     ]
    }
   ],
   "source": [
    "# It can be further improved by the incorporation of the \"else\" statement / Az \"else\" állítás beépítésével tovább bővíthető:\n",
    "#print('All Done!')\n",
    "x = 0\n",
    "while x<=10:\n",
    "    print('x is currently / Az x épp: ',x)\n",
    "    print('x is still less than 10, adding 1 to x / az x még mindig kevesebb, mint 10, így hozzáadunk 1-et')\n",
    "    x += 1\n",
    "else:\n",
    "    print(\"All Done!\")\n"
   ]
  },
  {
   "cell_type": "markdown",
   "metadata": {},
   "source": [
    "<b>Attention!! / Figyelem!!</b>\n",
    "It is possible to create an infinite loop. In this case restart the kernel at the top menubar. / Lehetséges végtelen ciklust létrehozni, ilyenkor indítsuk újra a kernel-t a fenti menüszalagból."
   ]
  },
  {
   "cell_type": "code",
   "execution_count": 30,
   "metadata": {
    "collapsed": true
   },
   "outputs": [],
   "source": [
    "# DO NOT RUN THIS CODE!!!! / NE FUTTASD LE EZT KÓDOT!!!!\n",
    "#while True:\n",
    "#    print(\"Restart the kernel! / Indítsd ujra a kernelt!\")"
   ]
  }
 ],
 "metadata": {
  "kernelspec": {
   "display_name": "Python 3",
   "language": "python",
   "name": "python3"
  },
  "language_info": {
   "codemirror_mode": {
    "name": "ipython",
    "version": 3
   },
   "file_extension": ".py",
   "mimetype": "text/x-python",
   "name": "python",
   "nbconvert_exporter": "python",
   "pygments_lexer": "ipython3",
   "version": "3.6.3"
  }
 },
 "nbformat": 4,
 "nbformat_minor": 2
}
