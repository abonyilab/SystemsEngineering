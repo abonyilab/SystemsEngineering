{
 "cells": [
  {
   "cell_type": "markdown",
   "metadata": {},
   "source": [
    "# Arithmetic\n",
    "\n",
    "\n",
    "## Celsius to Fahrenheit converter\n",
    "\n",
    "Let's convert 21 °C to F with the following equation / Számítsuk át a 21 °C-ot F-re a következő egyenlet segítségével:\n",
    "\n",
    "$F = 9/5 * C+32$"
   ]
  },
  {
   "cell_type": "code",
   "execution_count": 39,
   "metadata": {},
   "outputs": [
    {
     "name": "stdout",
     "output_type": "stream",
     "text": [
      "69.80000000000001\n"
     ]
    }
   ],
   "source": [
    "C = 21\n",
    "F = 9/5*C+32\n",
    "print(F)"
   ]
  },
  {
   "cell_type": "markdown",
   "metadata": {},
   "source": [
    "# Variables\n",
    "\n",
    "\n",
    "## Strings\n",
    "\n",
    "Create a string! / Hozzunk létre egy stringet."
   ]
  },
  {
   "cell_type": "code",
   "execution_count": 40,
   "metadata": {
    "collapsed": true
   },
   "outputs": [],
   "source": [
    "my_string = \"MOL Petrolkémia!\""
   ]
  },
  {
   "cell_type": "markdown",
   "metadata": {},
   "source": [
    "Mark its / Jelöljük ki:\n",
    "<ul>\n",
    "  <li>First three characters / Első három karakterét.</li>\n",
    "  <li>The last but one character / Utolsó előtti karakterét.</li>\n",
    "  <li>Every second element / Minden második elemet.</li>\n",
    "  <li>Every element in reverse order / Minden elemet visszafelé. </li>\n",
    "  <li>Every element after the 3rd / Minden elem a 3-tól.</li>\n",
    "</ul>"
   ]
  },
  {
   "cell_type": "code",
   "execution_count": 41,
   "metadata": {},
   "outputs": [
    {
     "name": "stdout",
     "output_type": "stream",
     "text": [
      "MOL\n",
      "!\n",
      "MLPtokma\n",
      "MOL\n",
      "!aiméklorteP LOM\n",
      "L Petrolkémia!\n"
     ]
    }
   ],
   "source": [
    "print(my_string[:3])\n",
    "print(my_string[-1])\n",
    "print(my_string[::2])\n",
    "print(my_string[:3])\n",
    "print(my_string[::-1])\n",
    "print(my_string[2:])"
   ]
  },
  {
   "cell_type": "markdown",
   "metadata": {},
   "source": [
    "Add the \"super\" word after the string / Adjuk hozzá a \"super\" szót."
   ]
  },
  {
   "cell_type": "code",
   "execution_count": 42,
   "metadata": {},
   "outputs": [
    {
     "name": "stdout",
     "output_type": "stream",
     "text": [
      "MOL Petrolkémia!super\n"
     ]
    }
   ],
   "source": [
    "my_string = my_string + \"super\"\n",
    "print(my_string)"
   ]
  },
  {
   "cell_type": "markdown",
   "metadata": {},
   "source": [
    "Turn the string to uppercase! / Legyen a string nagybetűs!"
   ]
  },
  {
   "cell_type": "code",
   "execution_count": 43,
   "metadata": {},
   "outputs": [
    {
     "data": {
      "text/plain": [
       "'MOL PETROLKÉMIA!SUPER'"
      ]
     },
     "execution_count": 43,
     "metadata": {},
     "output_type": "execute_result"
    }
   ],
   "source": [
    "my_string.upper()"
   ]
  },
  {
   "cell_type": "markdown",
   "metadata": {},
   "source": [
    "## Lists\n",
    "\n",
    "Create a list! / Hozzunk létre egy listát."
   ]
  },
  {
   "cell_type": "code",
   "execution_count": 44,
   "metadata": {
    "collapsed": true
   },
   "outputs": [],
   "source": [
    "my_list = [1, 2, \"tíz\", 42]"
   ]
  },
  {
   "cell_type": "markdown",
   "metadata": {},
   "source": [
    "Add the \"machine learning\" string to it! Be careful, it is not a real string! / Adjuk hozzá a \"machine learning\" string-et! Figyelem, ez nem egy egyszerű string!"
   ]
  },
  {
   "cell_type": "code",
   "execution_count": 45,
   "metadata": {},
   "outputs": [
    {
     "name": "stdout",
     "output_type": "stream",
     "text": [
      "[1, 2, 'tíz', 42, 'machine learning']\n"
     ]
    }
   ],
   "source": [
    "my_list = my_list + [\"machine learning\"]\n",
    "print(my_list)"
   ]
  },
  {
   "cell_type": "markdown",
   "metadata": {},
   "source": [
    "Create a nested list from two lists! Mark the first element of both lists! / Készíts egy beágyazott listát két lista segítségével! Jelöld ki az első elemet mind a két listában!"
   ]
  },
  {
   "cell_type": "code",
   "execution_count": 46,
   "metadata": {},
   "outputs": [
    {
     "name": "stdout",
     "output_type": "stream",
     "text": [
      "[[1, 2, 'tíz', 42, 'machine learning'], ['a', 10, 12]]\n",
      "1\n",
      "a\n"
     ]
    }
   ],
   "source": [
    "my_list1 = [\"a\", 10, 12]\n",
    "nested_list = [my_list,my_list1]\n",
    "print(nested_list)\n",
    "print(nested_list[0][0])\n",
    "print(nested_list[1][0])"
   ]
  },
  {
   "cell_type": "markdown",
   "metadata": {},
   "source": [
    "Eliminate (pop out) the 3rd element from the original list! / Töröld a 3. elemet az eredeti listából!"
   ]
  },
  {
   "cell_type": "code",
   "execution_count": 47,
   "metadata": {},
   "outputs": [
    {
     "name": "stdout",
     "output_type": "stream",
     "text": [
      "tíz\n",
      "[1, 2, 42, 'machine learning']\n"
     ]
    }
   ],
   "source": [
    "print(my_list.pop(2))\n",
    "print(my_list)"
   ]
  },
  {
   "cell_type": "markdown",
   "metadata": {},
   "source": [
    "## Dictionaries\n",
    "\n",
    "Create a dictionary with a number, string and list! / Hozzunk létre egy szótárat egy számmal, stringgel és listával."
   ]
  },
  {
   "cell_type": "code",
   "execution_count": 48,
   "metadata": {},
   "outputs": [
    {
     "name": "stdout",
     "output_type": "stream",
     "text": [
      "{'k1': 44, 'k2': 'valami', 'k3': [1, 2, 3]}\n"
     ]
    }
   ],
   "source": [
    "my_dict = {'k1' : 44, 'k2' : \"valami\", 'k3' : [1,2,3]}\n",
    "print(my_dict)"
   ]
  },
  {
   "cell_type": "markdown",
   "metadata": {},
   "source": [
    "Grab the first element of the list! / Jelöljük ki a lista első elemét!"
   ]
  },
  {
   "cell_type": "code",
   "execution_count": 49,
   "metadata": {},
   "outputs": [
    {
     "data": {
      "text/plain": [
       "1"
      ]
     },
     "execution_count": 49,
     "metadata": {},
     "output_type": "execute_result"
    }
   ],
   "source": [
    "my_dict['k3'][0]"
   ]
  },
  {
   "cell_type": "markdown",
   "metadata": {},
   "source": [
    "Grab just the keywords and just the values! / Válasszuk ki csak a kulcsszavakat és csak az értékeket!"
   ]
  },
  {
   "cell_type": "code",
   "execution_count": 50,
   "metadata": {},
   "outputs": [
    {
     "name": "stdout",
     "output_type": "stream",
     "text": [
      "dict_keys(['k1', 'k2', 'k3'])\n",
      "dict_values([44, 'valami', [1, 2, 3]])\n"
     ]
    }
   ],
   "source": [
    "print(my_dict.keys())\n",
    "print(my_dict.values())"
   ]
  },
  {
   "cell_type": "markdown",
   "metadata": {},
   "source": [
    "## Tuples, Sets and Booleans\n",
    "\n",
    "Create a tuple, a set and a boolean variable. / Hozz létre egy tuple, egy halmaz és egy logikai változót."
   ]
  },
  {
   "cell_type": "code",
   "execution_count": 52,
   "metadata": {},
   "outputs": [
    {
     "name": "stdout",
     "output_type": "stream",
     "text": [
      "(1, 2, 3)\n",
      "{1, 2, 3, 4}\n",
      "True\n"
     ]
    }
   ],
   "source": [
    "my_tuple = (1,2,3)\n",
    "my_set = {1,2,3,3,4,4,4,4}\n",
    "my_bool = True\n",
    "print(my_tuple)\n",
    "print(my_set)\n",
    "print(my_bool)"
   ]
  },
  {
   "cell_type": "code",
   "execution_count": null,
   "metadata": {
    "collapsed": true
   },
   "outputs": [],
   "source": []
  }
 ],
 "metadata": {
  "kernelspec": {
   "display_name": "Python 3",
   "language": "python",
   "name": "python3"
  },
  "language_info": {
   "codemirror_mode": {
    "name": "ipython",
    "version": 3
   },
   "file_extension": ".py",
   "mimetype": "text/x-python",
   "name": "python",
   "nbconvert_exporter": "python",
   "pygments_lexer": "ipython3",
   "version": "3.7.1"
  }
 },
 "nbformat": 4,
 "nbformat_minor": 2
}
